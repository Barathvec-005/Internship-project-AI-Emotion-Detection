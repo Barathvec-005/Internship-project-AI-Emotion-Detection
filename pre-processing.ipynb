{
 "cells": [
  {
   "cell_type": "code",
   "execution_count": 11,
   "id": "0425b709",
   "metadata": {},
   "outputs": [
    {
     "name": "stdout",
     "output_type": "stream",
     "text": [
      "Collecting tensorflow\n",
      "  Obtaining dependency information for tensorflow from https://files.pythonhosted.org/packages/93/21/9b035a4f823d6aee2917c75415be9a95861ff3d73a0a65e48edbf210cec1/tensorflow-2.15.0-cp311-cp311-win_amd64.whl.metadata\n",
      "  Downloading tensorflow-2.15.0-cp311-cp311-win_amd64.whl.metadata (3.6 kB)\n",
      "Requirement already satisfied: tensorflow-intel==2.15.0 in c:\\programdata\\anaconda3\\lib\\site-packages (from tensorflow) (2.15.0)\n",
      "Requirement already satisfied: absl-py>=1.0.0 in c:\\programdata\\anaconda3\\lib\\site-packages (from tensorflow-intel==2.15.0->tensorflow) (2.0.0)\n",
      "Requirement already satisfied: astunparse>=1.6.0 in c:\\programdata\\anaconda3\\lib\\site-packages (from tensorflow-intel==2.15.0->tensorflow) (1.6.3)\n",
      "Requirement already satisfied: flatbuffers>=23.5.26 in c:\\programdata\\anaconda3\\lib\\site-packages (from tensorflow-intel==2.15.0->tensorflow) (23.5.26)\n",
      "Requirement already satisfied: gast!=0.5.0,!=0.5.1,!=0.5.2,>=0.2.1 in c:\\programdata\\anaconda3\\lib\\site-packages (from tensorflow-intel==2.15.0->tensorflow) (0.5.4)\n",
      "Requirement already satisfied: google-pasta>=0.1.1 in c:\\programdata\\anaconda3\\lib\\site-packages (from tensorflow-intel==2.15.0->tensorflow) (0.2.0)\n",
      "Requirement already satisfied: h5py>=2.9.0 in c:\\programdata\\anaconda3\\lib\\site-packages (from tensorflow-intel==2.15.0->tensorflow) (3.9.0)\n",
      "Requirement already satisfied: libclang>=13.0.0 in c:\\programdata\\anaconda3\\lib\\site-packages (from tensorflow-intel==2.15.0->tensorflow) (16.0.6)\n",
      "Requirement already satisfied: ml-dtypes~=0.2.0 in c:\\programdata\\anaconda3\\lib\\site-packages (from tensorflow-intel==2.15.0->tensorflow) (0.2.0)\n",
      "Requirement already satisfied: numpy<2.0.0,>=1.23.5 in c:\\programdata\\anaconda3\\lib\\site-packages (from tensorflow-intel==2.15.0->tensorflow) (1.24.3)\n",
      "Requirement already satisfied: opt-einsum>=2.3.2 in c:\\programdata\\anaconda3\\lib\\site-packages (from tensorflow-intel==2.15.0->tensorflow) (3.3.0)\n",
      "Requirement already satisfied: packaging in c:\\programdata\\anaconda3\\lib\\site-packages (from tensorflow-intel==2.15.0->tensorflow) (23.1)\n",
      "Requirement already satisfied: protobuf!=4.21.0,!=4.21.1,!=4.21.2,!=4.21.3,!=4.21.4,!=4.21.5,<5.0.0dev,>=3.20.3 in c:\\programdata\\anaconda3\\lib\\site-packages (from tensorflow-intel==2.15.0->tensorflow) (4.23.4)\n",
      "Requirement already satisfied: setuptools in c:\\programdata\\anaconda3\\lib\\site-packages (from tensorflow-intel==2.15.0->tensorflow) (68.0.0)\n",
      "Requirement already satisfied: six>=1.12.0 in c:\\programdata\\anaconda3\\lib\\site-packages (from tensorflow-intel==2.15.0->tensorflow) (1.16.0)\n",
      "Requirement already satisfied: termcolor>=1.1.0 in c:\\users\\barat\\appdata\\roaming\\python\\python311\\site-packages (from tensorflow-intel==2.15.0->tensorflow) (2.4.0)\n",
      "Requirement already satisfied: typing-extensions>=3.6.6 in c:\\programdata\\anaconda3\\lib\\site-packages (from tensorflow-intel==2.15.0->tensorflow) (4.7.1)\n",
      "Requirement already satisfied: wrapt<1.15,>=1.11.0 in c:\\programdata\\anaconda3\\lib\\site-packages (from tensorflow-intel==2.15.0->tensorflow) (1.14.1)\n",
      "Requirement already satisfied: tensorflow-io-gcs-filesystem>=0.23.1 in c:\\programdata\\anaconda3\\lib\\site-packages (from tensorflow-intel==2.15.0->tensorflow) (0.31.0)\n",
      "Requirement already satisfied: grpcio<2.0,>=1.24.3 in c:\\programdata\\anaconda3\\lib\\site-packages (from tensorflow-intel==2.15.0->tensorflow) (1.60.0)\n",
      "Requirement already satisfied: tensorboard<2.16,>=2.15 in c:\\programdata\\anaconda3\\lib\\site-packages (from tensorflow-intel==2.15.0->tensorflow) (2.15.1)\n",
      "Requirement already satisfied: tensorflow-estimator<2.16,>=2.15.0 in c:\\programdata\\anaconda3\\lib\\site-packages (from tensorflow-intel==2.15.0->tensorflow) (2.15.0)\n",
      "Requirement already satisfied: keras<2.16,>=2.15.0 in c:\\programdata\\anaconda3\\lib\\site-packages (from tensorflow-intel==2.15.0->tensorflow) (2.15.0)\n",
      "Requirement already satisfied: wheel<1.0,>=0.23.0 in c:\\programdata\\anaconda3\\lib\\site-packages (from astunparse>=1.6.0->tensorflow-intel==2.15.0->tensorflow) (0.38.4)\n",
      "Requirement already satisfied: google-auth<3,>=1.6.3 in c:\\programdata\\anaconda3\\lib\\site-packages (from tensorboard<2.16,>=2.15->tensorflow-intel==2.15.0->tensorflow) (2.25.2)\n",
      "Requirement already satisfied: google-auth-oauthlib<2,>=0.5 in c:\\programdata\\anaconda3\\lib\\site-packages (from tensorboard<2.16,>=2.15->tensorflow-intel==2.15.0->tensorflow) (1.2.0)\n",
      "Requirement already satisfied: markdown>=2.6.8 in c:\\programdata\\anaconda3\\lib\\site-packages (from tensorboard<2.16,>=2.15->tensorflow-intel==2.15.0->tensorflow) (3.4.1)\n",
      "Requirement already satisfied: requests<3,>=2.21.0 in c:\\programdata\\anaconda3\\lib\\site-packages (from tensorboard<2.16,>=2.15->tensorflow-intel==2.15.0->tensorflow) (2.31.0)\n",
      "Requirement already satisfied: tensorboard-data-server<0.8.0,>=0.7.0 in c:\\programdata\\anaconda3\\lib\\site-packages (from tensorboard<2.16,>=2.15->tensorflow-intel==2.15.0->tensorflow) (0.7.2)\n",
      "Requirement already satisfied: werkzeug>=1.0.1 in c:\\programdata\\anaconda3\\lib\\site-packages (from tensorboard<2.16,>=2.15->tensorflow-intel==2.15.0->tensorflow) (2.2.3)\n",
      "Requirement already satisfied: cachetools<6.0,>=2.0.0 in c:\\programdata\\anaconda3\\lib\\site-packages (from google-auth<3,>=1.6.3->tensorboard<2.16,>=2.15->tensorflow-intel==2.15.0->tensorflow) (5.3.2)\n",
      "Requirement already satisfied: pyasn1-modules>=0.2.1 in c:\\programdata\\anaconda3\\lib\\site-packages (from google-auth<3,>=1.6.3->tensorboard<2.16,>=2.15->tensorflow-intel==2.15.0->tensorflow) (0.2.8)\n",
      "Requirement already satisfied: rsa<5,>=3.1.4 in c:\\programdata\\anaconda3\\lib\\site-packages (from google-auth<3,>=1.6.3->tensorboard<2.16,>=2.15->tensorflow-intel==2.15.0->tensorflow) (4.9)\n",
      "Requirement already satisfied: requests-oauthlib>=0.7.0 in c:\\programdata\\anaconda3\\lib\\site-packages (from google-auth-oauthlib<2,>=0.5->tensorboard<2.16,>=2.15->tensorflow-intel==2.15.0->tensorflow) (1.3.1)\n",
      "Requirement already satisfied: charset-normalizer<4,>=2 in c:\\programdata\\anaconda3\\lib\\site-packages (from requests<3,>=2.21.0->tensorboard<2.16,>=2.15->tensorflow-intel==2.15.0->tensorflow) (2.0.4)\n",
      "Requirement already satisfied: idna<4,>=2.5 in c:\\programdata\\anaconda3\\lib\\site-packages (from requests<3,>=2.21.0->tensorboard<2.16,>=2.15->tensorflow-intel==2.15.0->tensorflow) (3.4)\n",
      "Requirement already satisfied: urllib3<3,>=1.21.1 in c:\\programdata\\anaconda3\\lib\\site-packages (from requests<3,>=2.21.0->tensorboard<2.16,>=2.15->tensorflow-intel==2.15.0->tensorflow) (1.26.16)\n",
      "Requirement already satisfied: certifi>=2017.4.17 in c:\\programdata\\anaconda3\\lib\\site-packages (from requests<3,>=2.21.0->tensorboard<2.16,>=2.15->tensorflow-intel==2.15.0->tensorflow) (2023.11.17)\n",
      "Requirement already satisfied: MarkupSafe>=2.1.1 in c:\\programdata\\anaconda3\\lib\\site-packages (from werkzeug>=1.0.1->tensorboard<2.16,>=2.15->tensorflow-intel==2.15.0->tensorflow) (2.1.1)\n",
      "Requirement already satisfied: pyasn1<0.5.0,>=0.4.6 in c:\\programdata\\anaconda3\\lib\\site-packages (from pyasn1-modules>=0.2.1->google-auth<3,>=1.6.3->tensorboard<2.16,>=2.15->tensorflow-intel==2.15.0->tensorflow) (0.4.8)\n",
      "Requirement already satisfied: oauthlib>=3.0.0 in c:\\programdata\\anaconda3\\lib\\site-packages (from requests-oauthlib>=0.7.0->google-auth-oauthlib<2,>=0.5->tensorboard<2.16,>=2.15->tensorflow-intel==2.15.0->tensorflow) (3.2.2)\n",
      "Downloading tensorflow-2.15.0-cp311-cp311-win_amd64.whl (2.1 kB)\n",
      "Installing collected packages: tensorflow\n",
      "Successfully installed tensorflow-2.15.0\n",
      "Note: you may need to restart the kernel to use updated packages.\n"
     ]
    }
   ],
   "source": [
    "pip install tensorflow"
   ]
  },
  {
   "cell_type": "code",
   "execution_count": 1,
   "id": "e2568d6b",
   "metadata": {},
   "outputs": [
    {
     "name": "stdout",
     "output_type": "stream",
     "text": [
      "WARNING:tensorflow:From C:\\ProgramData\\anaconda3\\Lib\\site-packages\\keras\\src\\losses.py:2976: The name tf.losses.sparse_softmax_cross_entropy is deprecated. Please use tf.compat.v1.losses.sparse_softmax_cross_entropy instead.\n",
      "\n"
     ]
    }
   ],
   "source": [
    "import cv2\n",
    "from keras.models import Sequential\n",
    "from keras.layers import Conv2D, MaxPooling2D, Dense, Dropout, Flatten\n",
    "from keras.optimizers import Adam\n",
    "from keras.preprocessing.image import ImageDataGenerator\n",
    "from keras.callbacks import LearningRateScheduler\n"
   ]
  },
  {
   "cell_type": "code",
   "execution_count": 2,
   "id": "540ba171",
   "metadata": {},
   "outputs": [],
   "source": [
    "train_data_gen = ImageDataGenerator(rescale=1./255)\n",
    "validation_data_gen = ImageDataGenerator(rescale=1./255)"
   ]
  },
  {
   "cell_type": "code",
   "execution_count": 3,
   "id": "8f5e3403",
   "metadata": {},
   "outputs": [
    {
     "name": "stdout",
     "output_type": "stream",
     "text": [
      "Found 28677 images belonging to 7 classes.\n"
     ]
    }
   ],
   "source": [
    "train_dir=r'D:\\inter\\train'\n",
    "train_generator = train_data_gen.flow_from_directory(\n",
    "    train_dir,\n",
    "    target_size=(48, 48),\n",
    "    batch_size=64,\n",
    "    color_mode=\"grayscale\",\n",
    "    class_mode='categorical'\n",
    ")"
   ]
  },
  {
   "cell_type": "code",
   "execution_count": 4,
   "id": "d2575c01",
   "metadata": {},
   "outputs": [
    {
     "name": "stdout",
     "output_type": "stream",
     "text": [
      "Found 7178 images belonging to 7 classes.\n"
     ]
    }
   ],
   "source": [
    "test_dir=r'D:\\inter\\test'\n",
    "validation_generator=validation_data_gen.flow_from_directory(\n",
    "    test_dir,\n",
    "    target_size=(48,48),\n",
    "    batch_size=64,\n",
    "    color_mode='grayscale',\n",
    "    class_mode='categorical')"
   ]
  },
  {
   "cell_type": "code",
   "execution_count": 5,
   "id": "765a14e4",
   "metadata": {},
   "outputs": [
    {
     "name": "stdout",
     "output_type": "stream",
     "text": [
      "WARNING:tensorflow:From C:\\ProgramData\\anaconda3\\Lib\\site-packages\\keras\\src\\backend.py:873: The name tf.get_default_graph is deprecated. Please use tf.compat.v1.get_default_graph instead.\n",
      "\n",
      "WARNING:tensorflow:From C:\\ProgramData\\anaconda3\\Lib\\site-packages\\keras\\src\\layers\\pooling\\max_pooling2d.py:161: The name tf.nn.max_pool is deprecated. Please use tf.nn.max_pool2d instead.\n",
      "\n"
     ]
    }
   ],
   "source": [
    "emotion_model = Sequential()\n",
    "emotion_model.add(Conv2D(32, kernel_size=(3, 3), activation='relu', input_shape=(48, 48, 1)))\n",
    "emotion_model.add(Conv2D(64, kernel_size=(3, 3), activation='relu'))\n",
    "emotion_model.add(MaxPooling2D(pool_size=(2, 2)))\n",
    "emotion_model.add(Dropout(0.25))\n",
    "emotion_model.add(Conv2D(128, kernel_size=(3, 3), activation='relu'))\n",
    "emotion_model.add(MaxPooling2D(pool_size=(2, 2)))\n",
    "emotion_model.add(Conv2D(128, kernel_size=(3, 3), activation='relu'))\n",
    "emotion_model.add(MaxPooling2D(pool_size=(2, 2)))\n",
    "emotion_model.add(Dropout(0.25))\n",
    "emotion_model.add(Flatten())\n",
    "emotion_model.add(Dense(1024, activation='relu'))\n",
    "emotion_model.add(Dropout(0.5))\n",
    "emotion_model.add(Dense(7, activation='softmax'))"
   ]
  },
  {
   "cell_type": "code",
   "execution_count": 6,
   "id": "fcd06da0",
   "metadata": {},
   "outputs": [],
   "source": [
    "cv2.ocl.setUseOpenCL(False)"
   ]
  },
  {
   "cell_type": "code",
   "execution_count": 8,
   "id": "167f53c2",
   "metadata": {},
   "outputs": [
    {
     "name": "stdout",
     "output_type": "stream",
     "text": [
      "Epoch 1/50\n"
     ]
    },
    {
     "name": "stderr",
     "output_type": "stream",
     "text": [
      "C:\\Users\\barat\\AppData\\Local\\Temp\\ipykernel_13288\\1189605949.py:16: UserWarning: `Model.fit_generator` is deprecated and will be removed in a future version. Please use `Model.fit`, which supports generators.\n",
      "  emotion_model_info = emotion_model.fit_generator(\n"
     ]
    },
    {
     "name": "stdout",
     "output_type": "stream",
     "text": [
      "448/448 [==============================] - 82s 180ms/step - loss: 0.7830 - accuracy: 0.7162 - val_loss: 1.0644 - val_accuracy: 0.6137 - lr: 1.0000e-04\n",
      "Epoch 2/50\n",
      "448/448 [==============================] - 84s 187ms/step - loss: 0.7655 - accuracy: 0.7161 - val_loss: 1.0663 - val_accuracy: 0.6084 - lr: 1.0000e-04\n",
      "Epoch 3/50\n",
      "448/448 [==============================] - 84s 187ms/step - loss: 0.7369 - accuracy: 0.7317 - val_loss: 1.0782 - val_accuracy: 0.6123 - lr: 1.0000e-04\n",
      "Epoch 4/50\n",
      "448/448 [==============================] - 84s 188ms/step - loss: 0.7216 - accuracy: 0.7395 - val_loss: 1.0580 - val_accuracy: 0.6166 - lr: 1.0000e-04\n",
      "Epoch 5/50\n",
      "448/448 [==============================] - 84s 188ms/step - loss: 0.7002 - accuracy: 0.7480 - val_loss: 1.0696 - val_accuracy: 0.6162 - lr: 1.0000e-04\n",
      "Epoch 6/50\n",
      "448/448 [==============================] - 84s 187ms/step - loss: 0.6860 - accuracy: 0.7520 - val_loss: 1.0702 - val_accuracy: 0.6173 - lr: 1.0000e-04\n",
      "Epoch 7/50\n",
      "448/448 [==============================] - 85s 189ms/step - loss: 0.6611 - accuracy: 0.7608 - val_loss: 1.0712 - val_accuracy: 0.6197 - lr: 1.0000e-04\n",
      "Epoch 8/50\n",
      "448/448 [==============================] - 85s 189ms/step - loss: 0.6389 - accuracy: 0.7677 - val_loss: 1.0709 - val_accuracy: 0.6226 - lr: 1.0000e-04\n",
      "Epoch 9/50\n",
      "448/448 [==============================] - 84s 189ms/step - loss: 0.6193 - accuracy: 0.7745 - val_loss: 1.0804 - val_accuracy: 0.6240 - lr: 1.0000e-04\n",
      "Epoch 10/50\n",
      "448/448 [==============================] - 84s 188ms/step - loss: 0.6018 - accuracy: 0.7810 - val_loss: 1.0924 - val_accuracy: 0.6230 - lr: 1.0000e-04\n",
      "Epoch 11/50\n",
      "448/448 [==============================] - 84s 187ms/step - loss: 0.5883 - accuracy: 0.7872 - val_loss: 1.0897 - val_accuracy: 0.6201 - lr: 1.0000e-04\n",
      "Epoch 12/50\n",
      "448/448 [==============================] - 84s 188ms/step - loss: 0.5693 - accuracy: 0.7914 - val_loss: 1.1108 - val_accuracy: 0.6246 - lr: 1.0000e-04\n",
      "Epoch 13/50\n",
      "448/448 [==============================] - 86s 191ms/step - loss: 0.5506 - accuracy: 0.8025 - val_loss: 1.0937 - val_accuracy: 0.6243 - lr: 1.0000e-04\n",
      "Epoch 14/50\n",
      "448/448 [==============================] - 85s 189ms/step - loss: 0.5254 - accuracy: 0.8067 - val_loss: 1.1143 - val_accuracy: 0.6230 - lr: 1.0000e-04\n",
      "Epoch 15/50\n",
      "448/448 [==============================] - 84s 188ms/step - loss: 0.5138 - accuracy: 0.8133 - val_loss: 1.1160 - val_accuracy: 0.6256 - lr: 1.0000e-04\n",
      "Epoch 16/50\n",
      "448/448 [==============================] - 84s 187ms/step - loss: 0.4971 - accuracy: 0.8215 - val_loss: 1.1130 - val_accuracy: 0.6251 - lr: 1.0000e-04\n",
      "Epoch 17/50\n",
      "448/448 [==============================] - 85s 190ms/step - loss: 0.4841 - accuracy: 0.8287 - val_loss: 1.1154 - val_accuracy: 0.6293 - lr: 1.0000e-04\n",
      "Epoch 18/50\n",
      "448/448 [==============================] - 86s 191ms/step - loss: 0.4661 - accuracy: 0.8328 - val_loss: 1.1358 - val_accuracy: 0.6236 - lr: 1.0000e-04\n",
      "Epoch 19/50\n",
      "448/448 [==============================] - 84s 188ms/step - loss: 0.4526 - accuracy: 0.8365 - val_loss: 1.1436 - val_accuracy: 0.6283 - lr: 1.0000e-04\n",
      "Epoch 20/50\n",
      "448/448 [==============================] - 84s 188ms/step - loss: 0.4411 - accuracy: 0.8387 - val_loss: 1.1450 - val_accuracy: 0.6240 - lr: 1.0000e-04\n",
      "Epoch 21/50\n",
      "448/448 [==============================] - 84s 188ms/step - loss: 0.4206 - accuracy: 0.8501 - val_loss: 1.1606 - val_accuracy: 0.6257 - lr: 1.0000e-04\n",
      "Epoch 22/50\n",
      "448/448 [==============================] - 84s 188ms/step - loss: 0.3913 - accuracy: 0.8591 - val_loss: 1.1695 - val_accuracy: 0.6285 - lr: 5.0000e-05\n",
      "Epoch 23/50\n",
      "448/448 [==============================] - 84s 187ms/step - loss: 0.3760 - accuracy: 0.8668 - val_loss: 1.1921 - val_accuracy: 0.6278 - lr: 5.0000e-05\n",
      "Epoch 24/50\n",
      "448/448 [==============================] - 84s 187ms/step - loss: 0.3715 - accuracy: 0.8681 - val_loss: 1.1842 - val_accuracy: 0.6283 - lr: 5.0000e-05\n",
      "Epoch 25/50\n",
      "448/448 [==============================] - 84s 188ms/step - loss: 0.3591 - accuracy: 0.8711 - val_loss: 1.2029 - val_accuracy: 0.6283 - lr: 5.0000e-05\n",
      "Epoch 26/50\n",
      "448/448 [==============================] - 88s 196ms/step - loss: 0.3510 - accuracy: 0.8744 - val_loss: 1.2083 - val_accuracy: 0.6271 - lr: 5.0000e-05\n",
      "Epoch 27/50\n",
      "448/448 [==============================] - 91s 202ms/step - loss: 0.3454 - accuracy: 0.8754 - val_loss: 1.2168 - val_accuracy: 0.6275 - lr: 5.0000e-05\n",
      "Epoch 28/50\n",
      "448/448 [==============================] - 88s 196ms/step - loss: 0.3402 - accuracy: 0.8804 - val_loss: 1.2093 - val_accuracy: 0.6270 - lr: 5.0000e-05\n",
      "Epoch 29/50\n",
      "448/448 [==============================] - 88s 195ms/step - loss: 0.3308 - accuracy: 0.8805 - val_loss: 1.2146 - val_accuracy: 0.6283 - lr: 5.0000e-05\n",
      "Epoch 30/50\n",
      "448/448 [==============================] - 85s 190ms/step - loss: 0.3238 - accuracy: 0.8838 - val_loss: 1.2198 - val_accuracy: 0.6296 - lr: 5.0000e-05\n",
      "Epoch 31/50\n",
      "448/448 [==============================] - 84s 187ms/step - loss: 0.3108 - accuracy: 0.8898 - val_loss: 1.2170 - val_accuracy: 0.6257 - lr: 5.0000e-05\n",
      "Epoch 32/50\n",
      "448/448 [==============================] - 84s 188ms/step - loss: 0.2981 - accuracy: 0.8935 - val_loss: 1.2412 - val_accuracy: 0.6275 - lr: 1.0000e-05\n",
      "Epoch 33/50\n",
      "448/448 [==============================] - 84s 188ms/step - loss: 0.2871 - accuracy: 0.8991 - val_loss: 1.2396 - val_accuracy: 0.6290 - lr: 1.0000e-05\n",
      "Epoch 34/50\n",
      "448/448 [==============================] - 84s 187ms/step - loss: 0.2941 - accuracy: 0.8950 - val_loss: 1.2314 - val_accuracy: 0.6272 - lr: 1.0000e-05\n",
      "Epoch 35/50\n",
      "448/448 [==============================] - 84s 187ms/step - loss: 0.2874 - accuracy: 0.8983 - val_loss: 1.2489 - val_accuracy: 0.6288 - lr: 1.0000e-05\n",
      "Epoch 36/50\n",
      "448/448 [==============================] - 84s 188ms/step - loss: 0.2891 - accuracy: 0.8961 - val_loss: 1.2417 - val_accuracy: 0.6268 - lr: 1.0000e-05\n",
      "Epoch 37/50\n",
      "448/448 [==============================] - 85s 189ms/step - loss: 0.2860 - accuracy: 0.8993 - val_loss: 1.2415 - val_accuracy: 0.6278 - lr: 1.0000e-05\n",
      "Epoch 38/50\n",
      "448/448 [==============================] - 84s 188ms/step - loss: 0.2844 - accuracy: 0.8985 - val_loss: 1.2513 - val_accuracy: 0.6289 - lr: 1.0000e-05\n",
      "Epoch 39/50\n",
      "448/448 [==============================] - 85s 189ms/step - loss: 0.2839 - accuracy: 0.8993 - val_loss: 1.2549 - val_accuracy: 0.6272 - lr: 1.0000e-05\n",
      "Epoch 40/50\n",
      "448/448 [==============================] - 84s 188ms/step - loss: 0.2833 - accuracy: 0.9000 - val_loss: 1.2498 - val_accuracy: 0.6286 - lr: 1.0000e-05\n",
      "Epoch 41/50\n",
      "448/448 [==============================] - 84s 188ms/step - loss: 0.2816 - accuracy: 0.9014 - val_loss: 1.2501 - val_accuracy: 0.6257 - lr: 1.0000e-05\n",
      "Epoch 42/50\n",
      "448/448 [==============================] - 84s 187ms/step - loss: 0.2782 - accuracy: 0.9026 - val_loss: 1.2554 - val_accuracy: 0.6279 - lr: 1.0000e-05\n",
      "Epoch 43/50\n",
      "448/448 [==============================] - 84s 187ms/step - loss: 0.2752 - accuracy: 0.9033 - val_loss: 1.2611 - val_accuracy: 0.6277 - lr: 1.0000e-05\n",
      "Epoch 44/50\n",
      "448/448 [==============================] - 84s 188ms/step - loss: 0.2776 - accuracy: 0.9010 - val_loss: 1.2529 - val_accuracy: 0.6268 - lr: 1.0000e-05\n",
      "Epoch 45/50\n",
      "448/448 [==============================] - 84s 188ms/step - loss: 0.2786 - accuracy: 0.9013 - val_loss: 1.2565 - val_accuracy: 0.6292 - lr: 1.0000e-05\n",
      "Epoch 46/50\n",
      "448/448 [==============================] - 84s 188ms/step - loss: 0.2729 - accuracy: 0.9036 - val_loss: 1.2551 - val_accuracy: 0.6281 - lr: 1.0000e-05\n",
      "Epoch 47/50\n",
      "448/448 [==============================] - 84s 188ms/step - loss: 0.2699 - accuracy: 0.9047 - val_loss: 1.2585 - val_accuracy: 0.6302 - lr: 1.0000e-05\n",
      "Epoch 48/50\n",
      "448/448 [==============================] - 85s 189ms/step - loss: 0.2688 - accuracy: 0.9049 - val_loss: 1.2570 - val_accuracy: 0.6307 - lr: 1.0000e-05\n",
      "Epoch 49/50\n",
      "448/448 [==============================] - 85s 188ms/step - loss: 0.2702 - accuracy: 0.9036 - val_loss: 1.2686 - val_accuracy: 0.6306 - lr: 1.0000e-05\n",
      "Epoch 50/50\n",
      "448/448 [==============================] - 84s 188ms/step - loss: 0.2673 - accuracy: 0.9070 - val_loss: 1.2630 - val_accuracy: 0.6286 - lr: 1.0000e-05\n"
     ]
    },
    {
     "name": "stdout",
     "output_type": "stream",
     "text": [
      "Epoch 148/200\n",
      "448/448 [==============================] - 81s 180ms/step - loss: 0.4572 - accuracy: 0.8357 - val_loss: 1.1328 - val_accuracy: 0.6264 - lr: 1.0000e-05\n",
      "Epoch 149/200\n",
      "448/448 [==============================] - 84s 187ms/step - loss: 0.4597 - accuracy: 0.8354 - val_loss: 1.1258 - val_accuracy: 0.6271 - lr: 1.0000e-05\n",
      "Epoch 150/200\n",
      "448/448 [==============================] - 84s 188ms/step - loss: 0.4532 - accuracy: 0.8391 - val_loss: 1.1329 - val_accuracy: 0.6263 - lr: 1.0000e-05\n",
      "Epoch 151/200\n",
      "448/448 [==============================] - 82s 182ms/step - loss: 0.4496 - accuracy: 0.8409 - val_loss: 1.1307 - val_accuracy: 0.6247 - lr: 1.0000e-05\n",
      "Epoch 152/200\n",
      "448/448 [==============================] - 81s 180ms/step - loss: 0.4454 - accuracy: 0.8410 - val_loss: 1.1309 - val_accuracy: 0.6263 - lr: 1.0000e-05\n",
      "Epoch 153/200\n",
      "448/448 [==============================] - 81s 180ms/step - loss: 0.4542 - accuracy: 0.8363 - val_loss: 1.1301 - val_accuracy: 0.6261 - lr: 1.0000e-05\n",
      "Epoch 154/200\n",
      "448/448 [==============================] - 81s 180ms/step - loss: 0.4516 - accuracy: 0.8382 - val_loss: 1.1354 - val_accuracy: 0.6300 - lr: 1.0000e-05\n",
      "Epoch 155/200\n",
      "448/448 [==============================] - 80s 180ms/step - loss: 0.4476 - accuracy: 0.8388 - val_loss: 1.1322 - val_accuracy: 0.6254 - lr: 1.0000e-05\n",
      "Epoch 156/200\n",
      "448/448 [==============================] - 81s 181ms/step - loss: 0.4380 - accuracy: 0.8450 - val_loss: 1.1396 - val_accuracy: 0.6279 - lr: 1.0000e-05\n",
      "Epoch 157/200\n",
      "448/448 [==============================] - 81s 181ms/step - loss: 0.4426 - accuracy: 0.8417 - val_loss: 1.1344 - val_accuracy: 0.6239 - lr: 1.0000e-05\n",
      "Epoch 158/200\n",
      "448/448 [==============================] - 81s 180ms/step - loss: 0.4386 - accuracy: 0.8437 - val_loss: 1.1313 - val_accuracy: 0.6264 - lr: 1.0000e-05\n",
      "Epoch 159/200\n",
      "448/448 [==============================] - 82s 182ms/step - loss: 0.4368 - accuracy: 0.8458 - val_loss: 1.1356 - val_accuracy: 0.6286 - lr: 1.0000e-05\n",
      "Epoch 160/200\n",
      "448/448 [==============================] - 81s 180ms/step - loss: 0.4368 - accuracy: 0.8458 - val_loss: 1.1343 - val_accuracy: 0.6260 - lr: 1.0000e-05\n",
      "Epoch 161/200\n",
      "448/448 [==============================] - 81s 182ms/step - loss: 0.4359 - accuracy: 0.8446 - val_loss: 1.1353 - val_accuracy: 0.6278 - lr: 1.0000e-05\n",
      "Epoch 162/200\n",
      "448/448 [==============================] - 81s 180ms/step - loss: 0.4307 - accuracy: 0.8466 - val_loss: 1.1387 - val_accuracy: 0.6278 - lr: 1.0000e-05\n",
      "Epoch 163/200\n",
      "448/448 [==============================] - 81s 180ms/step - loss: 0.4302 - accuracy: 0.8482 - val_loss: 1.1368 - val_accuracy: 0.6286 - lr: 1.0000e-05\n",
      "Epoch 164/200\n",
      "448/448 [==============================] - 81s 181ms/step - loss: 0.4337 - accuracy: 0.8436 - val_loss: 1.1391 - val_accuracy: 0.6272 - lr: 1.0000e-05\n",
      "Epoch 165/200\n",
      "448/448 [==============================] - 81s 181ms/step - loss: 0.4282 - accuracy: 0.8469 - val_loss: 1.1379 - val_accuracy: 0.6258 - lr: 1.0000e-05\n",
      "Epoch 166/200\n",
      "448/448 [==============================] - 81s 181ms/step - loss: 0.4237 - accuracy: 0.8469 - val_loss: 1.1437 - val_accuracy: 0.6275 - lr: 1.0000e-05\n",
      "Epoch 167/200\n",
      "448/448 [==============================] - 82s 182ms/step - loss: 0.4249 - accuracy: 0.8485 - val_loss: 1.1420 - val_accuracy: 0.6272 - lr: 1.0000e-05\n",
      "Epoch 168/200\n",
      "448/448 [==============================] - 81s 181ms/step - loss: 0.4257 - accuracy: 0.8481 - val_loss: 1.1415 - val_accuracy: 0.6265 - lr: 1.0000e-05\n",
      "Epoch 169/200\n",
      "448/448 [==============================] - 86s 192ms/step - loss: 0.4187 - accuracy: 0.8497 - val_loss: 1.1436 - val_accuracy: 0.6267 - lr: 1.0000e-05\n",
      "Epoch 170/200\n",
      "448/448 [==============================] - 87s 193ms/step - loss: 0.4201 - accuracy: 0.8504 - val_loss: 1.1431 - val_accuracy: 0.6268 - lr: 1.0000e-05\n",
      "Epoch 171/200\n",
      "448/448 [==============================] - 85s 189ms/step - loss: 0.4160 - accuracy: 0.8523 - val_loss: 1.1462 - val_accuracy: 0.6268 - lr: 1.0000e-05\n",
      "Epoch 172/200\n",
      "448/448 [==============================] - 81s 181ms/step - loss: 0.4137 - accuracy: 0.8508 - val_loss: 1.1490 - val_accuracy: 0.6271 - lr: 1.0000e-05\n",
      "Epoch 173/200\n",
      "448/448 [==============================] - 81s 181ms/step - loss: 0.4184 - accuracy: 0.8506 - val_loss: 1.1428 - val_accuracy: 0.6267 - lr: 1.0000e-05\n",
      "Epoch 174/200\n",
      "448/448 [==============================] - 81s 182ms/step - loss: 0.4049 - accuracy: 0.8562 - val_loss: 1.1527 - val_accuracy: 0.6275 - lr: 1.0000e-05\n",
      "Epoch 175/200\n",
      "448/448 [==============================] - 85s 189ms/step - loss: 0.4100 - accuracy: 0.8542 - val_loss: 1.1538 - val_accuracy: 0.6249 - lr: 1.0000e-05\n",
      "Epoch 176/200\n",
      "448/448 [==============================] - 84s 188ms/step - loss: 0.4054 - accuracy: 0.8568 - val_loss: 1.1549 - val_accuracy: 0.6285 - lr: 1.0000e-05\n",
      "Epoch 177/200\n",
      "448/448 [==============================] - 81s 180ms/step - loss: 0.4071 - accuracy: 0.8540 - val_loss: 1.1514 - val_accuracy: 0.6264 - lr: 1.0000e-05\n",
      "Epoch 178/200\n",
      "448/448 [==============================] - 83s 184ms/step - loss: 0.4035 - accuracy: 0.8556 - val_loss: 1.1672 - val_accuracy: 0.6271 - lr: 1.0000e-05\n",
      "Epoch 179/200\n",
      "448/448 [==============================] - 81s 181ms/step - loss: 0.4076 - accuracy: 0.8558 - val_loss: 1.1581 - val_accuracy: 0.6270 - lr: 1.0000e-05\n",
      "Epoch 180/200\n",
      "448/448 [==============================] - 81s 180ms/step - loss: 0.4014 - accuracy: 0.8564 - val_loss: 1.1563 - val_accuracy: 0.6285 - lr: 1.0000e-05\n",
      "Epoch 181/200\n",
      "448/448 [==============================] - 81s 181ms/step - loss: 0.3989 - accuracy: 0.8556 - val_loss: 1.1666 - val_accuracy: 0.6293 - lr: 1.0000e-05\n",
      "Epoch 182/200\n",
      "448/448 [==============================] - 83s 184ms/step - loss: 0.4013 - accuracy: 0.8552 - val_loss: 1.1615 - val_accuracy: 0.6270 - lr: 1.0000e-05\n",
      "Epoch 183/200\n",
      "448/448 [==============================] - 85s 190ms/step - loss: 0.3943 - accuracy: 0.8608 - val_loss: 1.1652 - val_accuracy: 0.6286 - lr: 1.0000e-05\n",
      "Epoch 184/200\n",
      "448/448 [==============================] - 85s 191ms/step - loss: 0.3913 - accuracy: 0.8596 - val_loss: 1.1628 - val_accuracy: 0.6268 - lr: 1.0000e-05\n",
      "Epoch 185/200\n",
      "448/448 [==============================] - 85s 189ms/step - loss: 0.3957 - accuracy: 0.8589 - val_loss: 1.1610 - val_accuracy: 0.6271 - lr: 1.0000e-05\n",
      "Epoch 186/200\n",
      "448/448 [==============================] - 85s 190ms/step - loss: 0.3927 - accuracy: 0.8589 - val_loss: 1.1604 - val_accuracy: 0.6290 - lr: 1.0000e-05\n",
      "Epoch 187/200\n",
      "448/448 [==============================] - 85s 189ms/step - loss: 0.3906 - accuracy: 0.8606 - val_loss: 1.1668 - val_accuracy: 0.6253 - lr: 1.0000e-05\n",
      "Epoch 188/200\n",
      "448/448 [==============================] - 80s 180ms/step - loss: 0.3945 - accuracy: 0.8595 - val_loss: 1.1692 - val_accuracy: 0.6257 - lr: 1.0000e-05\n",
      "Epoch 189/200\n",
      "448/448 [==============================] - 81s 180ms/step - loss: 0.3862 - accuracy: 0.8609 - val_loss: 1.1669 - val_accuracy: 0.6244 - lr: 1.0000e-05\n",
      "Epoch 190/200\n",
      "448/448 [==============================] - 81s 180ms/step - loss: 0.3892 - accuracy: 0.8618 - val_loss: 1.1646 - val_accuracy: 0.6264 - lr: 1.0000e-05\n",
      "Epoch 191/200\n",
      "448/448 [==============================] - 81s 180ms/step - loss: 0.3771 - accuracy: 0.8639 - val_loss: 1.1707 - val_accuracy: 0.6271 - lr: 1.0000e-05\n",
      "Epoch 192/200\n",
      "448/448 [==============================] - 81s 181ms/step - loss: 0.3774 - accuracy: 0.8652 - val_loss: 1.1779 - val_accuracy: 0.6288 - lr: 1.0000e-05\n",
      "Epoch 193/200\n",
      "448/448 [==============================] - 82s 182ms/step - loss: 0.3763 - accuracy: 0.8657 - val_loss: 1.1770 - val_accuracy: 0.6264 - lr: 1.0000e-05\n",
      "Epoch 194/200\n",
      "448/448 [==============================] - 81s 181ms/step - loss: 0.3772 - accuracy: 0.8667 - val_loss: 1.1756 - val_accuracy: 0.6264 - lr: 1.0000e-05\n",
      "Epoch 195/200\n",
      "448/448 [==============================] - 81s 181ms/step - loss: 0.3811 - accuracy: 0.8640 - val_loss: 1.1650 - val_accuracy: 0.6247 - lr: 1.0000e-05\n",
      "Epoch 196/200\n",
      "448/448 [==============================] - 81s 181ms/step - loss: 0.3723 - accuracy: 0.8684 - val_loss: 1.1743 - val_accuracy: 0.6257 - lr: 1.0000e-05\n",
      "Epoch 197/200\n",
      "448/448 [==============================] - 81s 180ms/step - loss: 0.3757 - accuracy: 0.8669 - val_loss: 1.1676 - val_accuracy: 0.6253 - lr: 1.0000e-05\n"
     ]
    },
    {
     "name": "stdout",
     "output_type": "stream",
     "text": [
      "Epoch 198/200\n",
      "448/448 [==============================] - 80s 179ms/step - loss: 0.3727 - accuracy: 0.8656 - val_loss: 1.1716 - val_accuracy: 0.6268 - lr: 1.0000e-05\n",
      "Epoch 199/200\n",
      "448/448 [==============================] - 80s 179ms/step - loss: 0.3702 - accuracy: 0.8701 - val_loss: 1.1787 - val_accuracy: 0.6272 - lr: 1.0000e-05\n",
      "Epoch 200/200\n",
      "448/448 [==============================] - 80s 179ms/step - loss: 0.3650 - accuracy: 0.8689 - val_loss: 1.1789 - val_accuracy: 0.6275 - lr: 1.0000e-05\n"
     ]
    }
   ],
   "source": [
    "def lr_schedule(epoch):\n",
    "    lr = 0.0001\n",
    "    if epoch > 30:\n",
    "        lr *= 0.1\n",
    "    elif epoch > 20:\n",
    "        lr *= 0.5\n",
    "    return lr\n",
    "\n",
    "# Use LearningRateScheduler callback\n",
    "lr_scheduler = LearningRateScheduler(lr_schedule)\n",
    "\n",
    "# Update optimizer to use the new parameter names and learning rate schedule\n",
    "emotion_model.compile(loss='categorical_crossentropy', optimizer=Adam(learning_rate=0.0001), metrics=['accuracy'])\n",
    "\n",
    "# Train the neural network/model\n",
    "emotion_model_info = emotion_model.fit_generator(\n",
    "    train_generator,\n",
    "    steps_per_epoch=28709 // 64,\n",
    "    epochs=50,\n",
    "    validation_data=validation_generator,\n",
    "    validation_steps=7178 // 64,\n",
    "    callbacks=[lr_scheduler]  # Include the learning rate scheduler callback\n",
    ")"
   ]
  },
  {
   "cell_type": "code",
   "execution_count": 9,
   "id": "309a98b5",
   "metadata": {},
   "outputs": [],
   "source": [
    "model_json = emotion_model.to_json()\n",
    "\n",
    "# Save the model architecture to a JSON file\n",
    "with open(\"emo_model.json\", \"w\") as json_file:\n",
    "    json_file.write(model_json)\n",
    "\n",
    "# Save the model weights to an HDF5 file\n",
    "emotion_model.save_weights('emo_model.h5')"
   ]
  },
  {
   "cell_type": "code",
   "execution_count": null,
   "id": "115310bb",
   "metadata": {},
   "outputs": [],
   "source": []
  }
 ],
 "metadata": {
  "kernelspec": {
   "display_name": "Python 3 (ipykernel)",
   "language": "python",
   "name": "python3"
  },
  "language_info": {
   "codemirror_mode": {
    "name": "ipython",
    "version": 3
   },
   "file_extension": ".py",
   "mimetype": "text/x-python",
   "name": "python",
   "nbconvert_exporter": "python",
   "pygments_lexer": "ipython3",
   "version": "3.11.5"
  }
 },
 "nbformat": 4,
 "nbformat_minor": 5
}
